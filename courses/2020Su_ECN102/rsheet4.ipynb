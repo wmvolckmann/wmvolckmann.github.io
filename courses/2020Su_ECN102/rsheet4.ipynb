{
  "nbformat": 4,
  "nbformat_minor": 0,
  "metadata": {
    "colab": {
      "name": "Copy of regression.ipynb",
      "provenance": []
    },
    "kernelspec": {
      "name": "python3",
      "display_name": "Python 3"
    }
  },
  "cells": [
    {
      "cell_type": "markdown",
      "metadata": {
        "id": "Yx5jB9ZXJE9I",
        "colab_type": "text"
      },
      "source": [
        "We will want to use the package stargazer to create good-looking regression output. You need to install it at least once on your machine; but you will always need to include the library every time you start a new session."
      ]
    },
    {
      "cell_type": "code",
      "metadata": {
        "id": "ZSaZV9SqIzBE",
        "colab_type": "code",
        "colab": {}
      },
      "source": [
        "#install.packages(\"stargazer\")\n",
        "library(\"stargazer\")\n"
      ],
      "execution_count": null,
      "outputs": []
    },
    {
      "cell_type": "markdown",
      "metadata": {
        "id": "b81RtlofJYa9",
        "colab_type": "text"
      },
      "source": [
        "We need some data, so let's just make some up."
      ]
    },
    {
      "cell_type": "code",
      "metadata": {
        "id": "EUOICPZaJiXO",
        "colab_type": "code",
        "colab": {}
      },
      "source": [
        "x = c(0,3,3,4,6)\n",
        "y = c(2,3,4,5,7)"
      ],
      "execution_count": null,
      "outputs": []
    },
    {
      "cell_type": "markdown",
      "metadata": {
        "id": "O_KvTLUOJj1t",
        "colab_type": "text"
      },
      "source": [
        "Before doing any quantitative analysis, let's look at a scatter plot of x and y to get an idea of the relationship between the two variables."
      ]
    },
    {
      "cell_type": "code",
      "metadata": {
        "id": "dePmUTvMKCSt",
        "colab_type": "code",
        "colab": {}
      },
      "source": [
        "plot(x,y)"
      ],
      "execution_count": null,
      "outputs": []
    },
    {
      "cell_type": "markdown",
      "metadata": {
        "id": "ZkNBo-OCJ0Kz",
        "colab_type": "text"
      },
      "source": [
        "It looks like there is a positive relationship between x and y. Therefore we expect a positive correlation coefficient. Let's find out."
      ]
    },
    {
      "cell_type": "code",
      "metadata": {
        "id": "DZ4sz3a2KAFv",
        "colab_type": "code",
        "colab": {}
      },
      "source": [
        "cor(x,y)"
      ],
      "execution_count": null,
      "outputs": []
    },
    {
      "cell_type": "markdown",
      "metadata": {
        "id": "2DWS8cShLIcv",
        "colab_type": "text"
      },
      "source": [
        ""
      ]
    },
    {
      "cell_type": "markdown",
      "metadata": {
        "id": "vhGLj5x3KGWH",
        "colab_type": "text"
      },
      "source": [
        "The sample correlation is 0.9472122, which implies a very tight positive relationship in the sample. We should test to see whether that is due to statistical noise that came from sampling, or whether it is more likely to be representative of the population of data.\n",
        "\n",
        "To that end, I will perform the test $H_0: \\rho_{xy} \\leq 0$ against $H_1: \\rho_{xy} > 0$."
      ]
    },
    {
      "cell_type": "code",
      "metadata": {
        "id": "5K6566TtK3nI",
        "colab_type": "code",
        "colab": {}
      },
      "source": [
        "cor.test(x, y, alternative = \"greater\")"
      ],
      "execution_count": null,
      "outputs": []
    },
    {
      "cell_type": "markdown",
      "metadata": {
        "id": "acrlLZ5RK5nU",
        "colab_type": "text"
      },
      "source": [
        "The correlation test gives a $p$-value of 0.007222, which means we can reject the null hypothesis at 1 percent significance and instead conclude that the true correlation coefficient is in fact positive."
      ]
    }
  ]
}