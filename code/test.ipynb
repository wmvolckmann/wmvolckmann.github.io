{
  "nbformat": 4,
  "nbformat_minor": 0,
  "metadata": {
    "colab": {
      "private_outputs": true,
      "provenance": []
    },
    "kernelspec": {
      "name": "python3",
      "display_name": "Python 3"
    },
    "language_info": {
      "name": "python"
    }
  },
  "cells": [
    {
      "cell_type": "code",
      "execution_count": null,
      "metadata": {
        "id": "e9BrD44cIShV"
      },
      "outputs": [],
      "source": [
        "!pip install linearmodels\n",
        "\n",
        "import pandas as pd\n",
        "import statsmodels.formula.api as smf\n",
        "import statsmodels.api as sm\n",
        "import linearmodels.iv as lmiv\n",
        "import numpy as np\n",
        "\n",
        "wages = pd.read_csv(r'https://www.wimivo.com/code/wages.csv')\n",
        "wages.info()\n",
        "\n",
        "ols1 = smf.ols('np.log(wage) ~ np.log(educ) + np.log(exper) + np.log(feduc+0.001) + np.log(meduc+0.001) + urban', data=wages).fit(cov_type='HC3')\n",
        "print(ols1.summary())\n",
        "\n",
        "formula = \"np.log(wage) ~ 1 + [np.log(educ) ~ np.log(distance)] + np.log(exper) + np.log(feduc+.001) + np.log(meduc+.001) + urban\"\n",
        "ivReg = lmiv.IV2SLS.from_formula(formula, wages).fit(cov_type=\"robust\")\n",
        "print(ivReg)"
      ]
    }
  ]
}